{
 "cells": [
  {
   "cell_type": "markdown",
   "metadata": {},
   "source": [
    "### Exercise 5: Subplot Layout"
   ]
  },
  {
   "cell_type": "code",
   "execution_count": null,
   "metadata": {},
   "outputs": [],
   "source": [
    "# TASK: Create a 2x2 subplot layout.\n",
    "# Plot a line chart in the first subplot, a bar chart in the second, a scatter plot in the third, and a pie chart in the fourth.\n",
    "import matplotlib.pyplot as plt\n",
    "\n",
    "fig, axs = plt.subplots(2, 2, figsize=(10, 8))\n",
    "\n",
    "# Line chart\n",
    "x = list(range(0, 11))\n",
    "y = [i**2 for i in x]\n",
    "axs[0, 0].plot(x, y)\n",
    "axs[0, 0].set_title(\"Line Plot\")\n",
    "axs[0, 0].set_xlabel(\"x\")\n",
    "axs[0, 0].set_ylabel(\"y\")\n",
    "\n",
    "# Bar chart\n",
    "categories = ['A', 'B', 'C', 'D']\n",
    "values = [5, 7, 3, 9]\n",
    "colors = ['red', 'green', 'blue', 'orange']\n",
    "axs[0, 1].bar(categories, values, color=colors)\n",
    "axs[0, 1].set_title(\"Bar Plot\")\n",
    "\n",
    "# Scatter plot\n",
    "x_scatter = [1, 2, 3, 4, 5]\n",
    "y_scatter = [2, 4, 6, 8, 10]\n",
    "axs[1, 0].scatter(x_scatter, y_scatter)\n",
    "for i, j in zip(x_scatter, y_scatter):\n",
    "    axs[1, 0].annotate(f\"({i},{j})\", (i, j), textcoords=\"offset points\", xytext=(5,5), ha='left')\n",
    "axs[1, 0].set_title(\"Scatter Plot\")\n",
    "\n",
    "# Pie chart\n",
    "labels = ['Python', 'Java', 'C++', 'JavaScript']\n",
    "sizes = [40, 25, 20, 15]\n",
    "axs[1, 1].pie(sizes, labels=labels, autopct='%1.1f%%')\n",
    "axs[1, 1].set_title(\"Pie Chart\")\n",
    "\n",
    "plt.tight_layout()\n",
    "plt.show()"
   ]
  }
 ],
 "metadata": {
  "language_info": {
   "name": "python"
  }
 },
 "nbformat": 4,
 "nbformat_minor": 2
}
